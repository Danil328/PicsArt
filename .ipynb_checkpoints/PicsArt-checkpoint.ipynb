{
 "cells": [
  {
   "cell_type": "markdown",
   "metadata": {},
   "source": [
    "Решение онлайн этапа хакатона [PicsArt AI](https://picsart.ai/ru/hack) на CPU без использования нейронных сетей в 25 строк. Dice Score: 0.954265"
   ]
  },
  {
   "cell_type": "code",
   "execution_count": 31,
   "metadata": {},
   "outputs": [],
   "source": [
    "import pandas as pd\n",
    "import requests\n",
    "import os\n",
    "import cv2\n",
    "import base64 \n",
    "from my_tools import rle_encoding\n",
    "from tqdm import tqdm_notebook\n",
    "import numpy as np\n",
    "\n",
    "def rle_encode(img):\n",
    "    '''\n",
    "    img: numpy array, 1 - mask, 0 - background\n",
    "    Returns run length as string formated\n",
    "    '''\n",
    "    pixels = img.flatten()\n",
    "    pixels = np.concatenate([[0], pixels, [0]])\n",
    "    runs = np.where(pixels[1:] != pixels[:-1])[0] + 1\n",
    "    runs[1::2] -= runs[::2]\n",
    "    return ' '.join(str(x) for x in runs)"
   ]
  },
  {
   "cell_type": "code",
   "execution_count": 3,
   "metadata": {},
   "outputs": [],
   "source": [
    "files_img = sorted(map(\n",
    "    lambda x: x.split('.')[0],filter(lambda x: x[-4:] == '.jpg',os.listdir('data/test'))))"
   ]
  },
  {
   "cell_type": "code",
   "execution_count": 27,
   "metadata": {},
   "outputs": [
    {
     "data": {
      "application/vnd.jupyter.widget-view+json": {
       "model_id": "623838444d1e4e4a9e3833f2cf7a542d",
       "version_major": 2,
       "version_minor": 0
      },
      "text/plain": [
       "HBox(children=(IntProgress(value=0, max=2177), HTML(value='')))"
      ]
     },
     "metadata": {},
     "output_type": "display_data"
    },
    {
     "name": "stderr",
     "output_type": "stream",
     "text": [
      "C:\\Users\\adm\\ML2\\lib\\site-packages\\ipykernel_launcher.py:5: DeprecationWarning: decodestring() is a deprecated alias since Python 3.1, use decodebytes()\n",
      "  \"\"\"\n"
     ]
    },
    {
     "name": "stdout",
     "output_type": "stream",
     "text": [
      "\n"
     ]
    }
   ],
   "source": [
    "url_picsart = 'https://picsart.easygold.ai/api/segment' \n",
    "for img in tqdm_notebook(files_img):\n",
    "    mask = requests.post(url_picsart,headers= {'Content-Type': 'application/json;charset=UTF-8'},\n",
    "                      data = '{\"url\":\"http://kucev.ru/picsart_test/%s.jpg\"}' % img).json()\n",
    "    png_recovered = base64.decodestring(str.encode(mask['data']['mask']))\n",
    "    f = open(\"data/mask/%s\" % (img + '.png'), \"wb+\")\n",
    "    f.write(png_recovered)\n",
    "    f.close()"
   ]
  },
  {
   "cell_type": "code",
   "execution_count": 32,
   "metadata": {},
   "outputs": [
    {
     "data": {
      "application/vnd.jupyter.widget-view+json": {
       "model_id": "36bb92750c9e4cea976dd9224c3da98a",
       "version_major": 2,
       "version_minor": 0
      },
      "text/plain": [
       "HBox(children=(IntProgress(value=0, max=2177), HTML(value='')))"
      ]
     },
     "metadata": {},
     "output_type": "display_data"
    },
    {
     "name": "stdout",
     "output_type": "stream",
     "text": [
      "\n"
     ]
    }
   ],
   "source": [
    "predictions = []\n",
    "for mask_path in tqdm_notebook(files_img):\n",
    "    mask = (cv2.imread('data/mask/' + mask_path + \".png\") / 255.).astype(int)[:,:,1]\n",
    "    rle = rle_encode(mask)\n",
    "    predictions.append(rle)\n",
    "df = pd.DataFrame.from_dict({'image': files_img, 'rle_mask': predictions})\n",
    "df.to_csv('submission.csv', index=False)"
   ]
  },
  {
   "cell_type": "code",
   "execution_count": null,
   "metadata": {},
   "outputs": [],
   "source": []
  }
 ],
 "metadata": {
  "kernelspec": {
   "display_name": "Python 3",
   "language": "python",
   "name": "python3"
  },
  "language_info": {
   "codemirror_mode": {
    "name": "ipython",
    "version": 3
   },
   "file_extension": ".py",
   "mimetype": "text/x-python",
   "name": "python",
   "nbconvert_exporter": "python",
   "pygments_lexer": "ipython3",
   "version": "3.6.5"
  }
 },
 "nbformat": 4,
 "nbformat_minor": 1
}
